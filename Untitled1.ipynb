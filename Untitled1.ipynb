{
 "cells": [
  {
   "cell_type": "code",
   "execution_count": 8,
   "id": "5e4f4713-d51e-456d-be24-3d35dae46c38",
   "metadata": {
    "tags": []
   },
   "outputs": [],
   "source": [
    "from typing import Callable, Iterable\n",
    "\n",
    "def map(fn: Callable[[float], float]) -> Callable[[Iterable[float]], Iterable[float]]:\n",
    "    return lambda x: [fn(p) for p in x]\n"
   ]
  },
  {
   "cell_type": "code",
   "execution_count": 9,
   "id": "a94c5871-dae2-4ad2-8706-9aaec12a052f",
   "metadata": {
    "tags": []
   },
   "outputs": [
    {
     "data": {
      "text/plain": [
       "[1, 4, 9]"
      ]
     },
     "execution_count": 9,
     "metadata": {},
     "output_type": "execute_result"
    }
   ],
   "source": [
    "p = [1, 2, 3]\n",
    "t = lambda x: x**2\n",
    "map(t)(p)"
   ]
  },
  {
   "cell_type": "code",
   "execution_count": 10,
   "id": "41df66a3-4fa0-4459-ab56-a23837b1b720",
   "metadata": {
    "tags": []
   },
   "outputs": [],
   "source": [
    "def zipWith(\n",
    "    fn: Callable[[float, float], float]\n",
    ") -> Callable[[Iterable[float], Iterable[float]], Iterable[float]]:\n",
    "    \"\"\"\n",
    "    Higher-order zipwith (or map2).\n",
    "\n",
    "    See https://en.wikipedia.org/wiki/Map_(higher-order_function)\n",
    "\n",
    "    Args:\n",
    "        fn: combine two values\n",
    "\n",
    "    Returns:\n",
    "         Function that takes two equally sized lists `ls1` and `ls2`, produce a new list by\n",
    "         applying fn(x, y) on each pair of elements.\n",
    "\n",
    "    \"\"\"\n",
    "    # TODO: Implement for Task 0.3.\n",
    "    return lambda x, y: [fn(cx, y[idx]) for idx, cx in enumerate(x)]"
   ]
  },
  {
   "cell_type": "code",
   "execution_count": 11,
   "id": "2d06c9ee-f62e-490c-a948-c20e39b5c8a8",
   "metadata": {
    "tags": []
   },
   "outputs": [
    {
     "data": {
      "text/plain": [
       "[4, 6]"
      ]
     },
     "execution_count": 11,
     "metadata": {},
     "output_type": "execute_result"
    }
   ],
   "source": [
    "zipWith(lambda x, y: x+y)([1,2],[3,4])"
   ]
  },
  {
   "cell_type": "code",
   "execution_count": 13,
   "id": "584493e6-fe94-4b32-9a42-527b26808351",
   "metadata": {
    "tags": []
   },
   "outputs": [],
   "source": [
    "def reduce(\n",
    "    fn: Callable[[float, float], float], start: float\n",
    ") -> Callable[[Iterable[float]], float]:\n",
    "    r\"\"\"\n",
    "    Higher-order reduce.\n",
    "\n",
    "    Args:\n",
    "        fn: combine two values\n",
    "        start: start value $x_0$\n",
    "\n",
    "    Returns:\n",
    "         Function that takes a list `ls` of elements\n",
    "         $x_1 \\ldots x_n$ and computes the reduction :math:`fn(x_3, fn(x_2,\n",
    "         fn(x_1, x_0)))`\n",
    "    \"\"\"\n",
    "    def inner(ls: Iterable[float]) -> float:\n",
    "        temp = start\n",
    "        for cx in ls:\n",
    "            temp = fn(temp, cx)\n",
    "        return temp\n",
    "    return inner"
   ]
  },
  {
   "cell_type": "code",
   "execution_count": 14,
   "id": "c8fea7d8-e61b-4efa-a6a6-a93ff033d308",
   "metadata": {
    "tags": []
   },
   "outputs": [
    {
     "data": {
      "text/plain": [
       "15"
      ]
     },
     "execution_count": 14,
     "metadata": {},
     "output_type": "execute_result"
    }
   ],
   "source": [
    "reduce(lambda x, y: x + y, 0)([1, 2, 3, 4, 5])"
   ]
  },
  {
   "cell_type": "code",
   "execution_count": 18,
   "id": "89e03a51-4659-470b-be85-8b1c5d7507fb",
   "metadata": {
    "tags": []
   },
   "outputs": [],
   "source": [
    "from __future__ import annotations\n",
    "\n",
    "from typing import Any, Dict, Optional, Sequence, Tuple\n",
    "import functools\n",
    "\n",
    "\n",
    "class Module:\n",
    "    \"\"\"\n",
    "    Modules form a tree that store parameters and other\n",
    "    submodules. They make up the basis of neural network stacks.\n",
    "\n",
    "    Attributes:\n",
    "        _modules : Storage of the child modules\n",
    "        _parameters : Storage of the module's parameters\n",
    "        training : Whether the module is in training mode or evaluation mode\n",
    "\n",
    "    \"\"\"\n",
    "\n",
    "    _modules: Dict[str, Module]\n",
    "    _parameters: Dict[str, Parameter]\n",
    "    training: bool\n",
    "\n",
    "    def __init__(self) -> None:\n",
    "        self._modules = {}\n",
    "        self._parameters = {}\n",
    "        self.training = True\n",
    "\n",
    "    def modules(self) -> Sequence[Module]:\n",
    "        \"Return the direct child modules of this module.\"\n",
    "        m: Dict[str, Module] = self.__dict__[\"_modules\"]\n",
    "        return list(m.values())\n",
    "\n",
    "    def train(self) -> None:\n",
    "        \"Set the mode of this module and all descendent modules to `train`.\"\n",
    "        self.training=True\n",
    "        self.modules.map(lambda x: x.train(()))\n",
    "\n",
    "    def eval(self) -> None:\n",
    "        \"Set the mode of this module and all descendent modules to `eval`.\"\n",
    "        self.training = False;\n",
    "        self.modules.map(lambda x: x.train(()))\n",
    "\n",
    "    def named_parameters(self) -> Sequence[Tuple[str, Parameter]]:\n",
    "        \"\"\"\n",
    "        Collect all the parameters of this module and its descendents.\n",
    "\n",
    "\n",
    "        Returns:\n",
    "            The name and `Parameter` of each ancestor parameter.\n",
    "        \"\"\"\n",
    "        params = self.__dict__[\"_parameters\"].items()\n",
    "        for k, module in self.__dict__[\"_modules\"]:\n",
    "            module.names_parameters().map(lambda x: (k + '.' + x[0], x[1]))\n",
    "        return params\n",
    "    def parameters(self) -> Sequence[Parameter]:\n",
    "        \"Enumerate over all the parameters of this module and its descendents.\"\n",
    "        params = self.__dict__[\"_parameters\"].values()\n",
    "        for module in self.__dict__[\"_modules\"]:\n",
    "            params += module.names_parameters()\n",
    "        return params\n",
    "\n",
    "    def add_parameter(self, k: str, v: Any) -> Parameter:\n",
    "        \"\"\"\n",
    "        Manually add a parameter. Useful helper for scalar parameters.\n",
    "\n",
    "        Args:\n",
    "            k: Local name of the parameter.\n",
    "            v: Value for the parameter.\n",
    "\n",
    "        Returns:\n",
    "            Newly created parameter.\n",
    "        \"\"\"\n",
    "        val = Parameter(v, k)\n",
    "        self.__dict__[\"_parameters\"][k] = val\n",
    "        return val\n",
    "\n",
    "    def __setattr__(self, key: str, val: Parameter) -> None:\n",
    "        if isinstance(val, Parameter):\n",
    "            self.__dict__[\"_parameters\"][key] = val\n",
    "        elif isinstance(val, Module):\n",
    "            self.__dict__[\"_modules\"][key] = val\n",
    "        else:\n",
    "            super().__setattr__(key, val)\n",
    "\n",
    "    def __getattr__(self, key: str) -> Any:\n",
    "        if key in self.__dict__[\"_parameters\"]:\n",
    "            return self.__dict__[\"_parameters\"][key]\n",
    "\n",
    "        if key in self.__dict__[\"_modules\"]:\n",
    "            return self.__dict__[\"_modules\"][key]\n",
    "        return None\n",
    "\n",
    "    def __call__(self, *args: Any, **kwargs: Any) -> Any:\n",
    "        return self.forward(*args, **kwargs)\n",
    "\n",
    "    def __repr__(self) -> str:\n",
    "        def _addindent(s_: str, numSpaces: int) -> str:\n",
    "            s2 = s_.split(\"\\n\")\n",
    "            if len(s2) == 1:\n",
    "                return s_\n",
    "            first = s2.pop(0)\n",
    "            s2 = [(numSpaces * \" \") + line for line in s2]\n",
    "            s = \"\\n\".join(s2)\n",
    "            s = first + \"\\n\" + s\n",
    "            return s\n",
    "\n",
    "        child_lines = []\n",
    "\n",
    "        for key, module in self._modules.items():\n",
    "            mod_str = repr(module)\n",
    "            mod_str = _addindent(mod_str, 2)\n",
    "            child_lines.append(\"(\" + key + \"): \" + mod_str)\n",
    "        lines = child_lines\n",
    "\n",
    "        main_str = self.__class__.__name__ + \"(\"\n",
    "        if lines:\n",
    "            # simple one-liner info, which most builtin Modules will use\n",
    "            main_str += \"\\n  \" + \"\\n  \".join(lines) + \"\\n\"\n",
    "\n",
    "        main_str += \")\"\n",
    "        return main_str\n",
    "\n",
    "\n",
    "class Parameter:\n",
    "    \"\"\"\n",
    "    A Parameter is a special container stored in a `Module`.\n",
    "\n",
    "    It is designed to hold a `Variable`, but we allow it to hold\n",
    "    any value for testing.\n",
    "    \"\"\"\n",
    "\n",
    "    def __init__(self, x: Any, name: Optional[str] = None) -> None:\n",
    "        self.value = x\n",
    "        self.name = name\n",
    "        if hasattr(x, \"requires_grad_\"):\n",
    "            self.value.requires_grad_(True)\n",
    "            if self.name:\n",
    "                self.value.name = self.name\n",
    "\n",
    "    def update(self, x: Any) -> None:\n",
    "        \"Update the parameter value.\"\n",
    "        self.value = x\n",
    "        if hasattr(x, \"requires_grad_\"):\n",
    "            self.value.requires_grad_(True)\n",
    "            if self.name:\n",
    "                self.value.name = self.name\n",
    "\n",
    "    def __repr__(self) -> str:\n",
    "        return repr(self.value)\n",
    "\n",
    "    def __str__(self) -> str:\n",
    "        return str(self.value)\n"
   ]
  },
  {
   "cell_type": "code",
   "execution_count": 1,
   "id": "390730a9-3e87-4c12-97be-c19c1f73fecd",
   "metadata": {},
   "outputs": [],
   "source": [
    "import numpy as np"
   ]
  },
  {
   "cell_type": "code",
   "execution_count": 4,
   "id": "2cc7cce2-fd6d-49bd-b8a3-8a732245d30f",
   "metadata": {
    "tags": []
   },
   "outputs": [],
   "source": [
    "p = np.random.rand(1, 5)"
   ]
  },
  {
   "cell_type": "code",
   "execution_count": 5,
   "id": "705e5167-c846-4edb-a1e8-91ce18c68191",
   "metadata": {
    "tags": []
   },
   "outputs": [
    {
     "data": {
      "text/plain": [
       "array([[0.17053456, 0.76496338, 0.20994209, 0.08360591, 0.93071876]])"
      ]
     },
     "execution_count": 5,
     "metadata": {},
     "output_type": "execute_result"
    }
   ],
   "source": [
    "p"
   ]
  },
  {
   "cell_type": "code",
   "execution_count": 6,
   "id": "236adfa3-bbed-4463-bbf8-59135248d489",
   "metadata": {
    "tags": []
   },
   "outputs": [],
   "source": [
    "c = np.random.rand(5, 1)"
   ]
  },
  {
   "cell_type": "code",
   "execution_count": 7,
   "id": "1fb203fe-350b-418e-bc0a-212cb58d7cfa",
   "metadata": {
    "tags": []
   },
   "outputs": [
    {
     "data": {
      "text/plain": [
       "array([[0.43246807, 1.02689689, 0.47187559, 0.34553942, 1.19265227],\n",
       "       [0.99560691, 1.59003573, 1.03501444, 0.90867826, 1.75579111],\n",
       "       [0.78899572, 1.38342454, 0.82840325, 0.70206707, 1.54917992],\n",
       "       [0.55529322, 1.14972204, 0.59470075, 0.46836458, 1.31547742],\n",
       "       [0.7482049 , 1.34263372, 0.78761243, 0.66127625, 1.5083891 ]])"
      ]
     },
     "execution_count": 7,
     "metadata": {},
     "output_type": "execute_result"
    }
   ],
   "source": [
    "p + c"
   ]
  },
  {
   "cell_type": "code",
   "execution_count": 10,
   "id": "f0091336-17b2-48c0-a9c8-a1c2fa9fd9ee",
   "metadata": {
    "tags": []
   },
   "outputs": [],
   "source": [
    "t = c.shape"
   ]
  },
  {
   "cell_type": "code",
   "execution_count": 12,
   "id": "63619cdf-fea2-466a-a6c1-294c8f4d89fa",
   "metadata": {
    "tags": []
   },
   "outputs": [
    {
     "data": {
      "text/plain": [
       "tuple"
      ]
     },
     "execution_count": 12,
     "metadata": {},
     "output_type": "execute_result"
    }
   ],
   "source": [
    "type(t)"
   ]
  },
  {
   "cell_type": "code",
   "execution_count": 13,
   "id": "801fc4d5-558e-4407-b49a-286a41590743",
   "metadata": {
    "tags": []
   },
   "outputs": [
    {
     "data": {
      "text/plain": [
       "2"
      ]
     },
     "execution_count": 13,
     "metadata": {},
     "output_type": "execute_result"
    }
   ],
   "source": [
    "len(t)"
   ]
  },
  {
   "cell_type": "code",
   "execution_count": 14,
   "id": "6132039f-9018-4722-bca3-e920a9dac70c",
   "metadata": {
    "tags": []
   },
   "outputs": [
    {
     "data": {
      "text/plain": [
       "3"
      ]
     },
     "execution_count": 14,
     "metadata": {},
     "output_type": "execute_result"
    }
   ],
   "source": [
    "max(2,3)"
   ]
  },
  {
   "cell_type": "code",
   "execution_count": null,
   "id": "d63ff48d-f27b-4814-9f64-b6f46b97a56b",
   "metadata": {},
   "outputs": [],
   "source": []
  }
 ],
 "metadata": {
  "kernelspec": {
   "display_name": "minitorch",
   "language": "python",
   "name": "minitorch"
  },
  "language_info": {
   "codemirror_mode": {
    "name": "ipython",
    "version": 3
   },
   "file_extension": ".py",
   "mimetype": "text/x-python",
   "name": "python",
   "nbconvert_exporter": "python",
   "pygments_lexer": "ipython3",
   "version": "3.9.19"
  }
 },
 "nbformat": 4,
 "nbformat_minor": 5
}
